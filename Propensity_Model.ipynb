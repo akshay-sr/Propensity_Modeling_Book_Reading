{
 "cells": [
  {
   "cell_type": "markdown",
   "metadata": {},
   "source": [
    "# Data Loading and Cleaning"
   ]
  },
  {
   "cell_type": "code",
   "execution_count": 3,
   "metadata": {},
   "outputs": [],
   "source": [
    "# Accumulate data in dataframes only if it satisfies certain criteria as per explanation in design document.\n",
    "# Invalid fields and unused/unimportant values are filtered out at the time of loading.\n",
    "\n",
    "import gzip\n",
    "import json\n",
    "import os\n",
    "import sys\n",
    "import numpy as np\n",
    "import pandas as pd\n",
    "import matplotlib.pyplot as plt\n",
    "pd.options.display.float_format = '{:,}'.format\n",
    "%matplotlib inline\n",
    "\n",
    "import dateutil.parser as dparser\n",
    "\n",
    "DIR = './dataset'\n",
    "\n",
    "YEAR_FILTER = 2016\n",
    "\n",
    "column_not_needed_to_be_in_frame = ['is_read','read_at']\n",
    "\n",
    "my_columns = ['user_id', 'book_id', 'rating', 'date_updated']\n",
    "\n",
    "from itertools import islice\n",
    "\n",
    "# Use itertools islice to iterate\n",
    "def iterate_with_slice(file_name, start=0, end=10):\n",
    "    iter_data = []\n",
    "    count = -1\n",
    "    with gzip.open(file_name) as fin:\n",
    "        chunked_file = islice(fin, start, end, None)\n",
    "        for line in chunked_file:\n",
    "            d = json.loads(line)\n",
    "            count = count + 1\n",
    "            if (not d['is_read'] or d['is_read'] is False):\n",
    "                continue\n",
    "            if (not d['date_updated'] or not d['read_at']):\n",
    "                continue\n",
    "            if (not d['user_id'] or not d['book_id'] or not d['rating']):\n",
    "                continue\n",
    "            year = dparser.parse(d['date_updated'],fuzzy=True).year\n",
    "            if year != YEAR_FILTER:\n",
    "                continue\n",
    "            iter_data.append(pd.DataFrame({'user_id': d['user_id'],\n",
    "                                            'book_id': d['book_id'],\n",
    "                                            'rating': d['rating'],\n",
    "                                            'date_updated': d['date_updated']},\n",
    "                                           index=[count]))\n",
    "    return iter_data\n"
   ]
  },
  {
   "cell_type": "markdown",
   "metadata": {},
   "source": [
    "## Dataframes composition over iterations "
   ]
  },
  {
   "cell_type": "code",
   "execution_count": 15,
   "metadata": {},
   "outputs": [
    {
     "name": "stdout",
     "output_type": "stream",
     "text": [
      "(938547, 4)\n"
     ]
    }
   ],
   "source": [
    "iter_1 = iterate_with_slice(os.path.join(DIR, 'goodreads_interactions_fantasy_paranormal.json.gz'), start=0, end=10000)\n",
    "df_iter_1 = pd.concat(iter_1, ignore_index=True)\n",
    "print(df_iter_1.shape)"
   ]
  },
  {
   "cell_type": "code",
   "execution_count": null,
   "metadata": {
    "scrolled": true
   },
   "outputs": [],
   "source": [
    "iter_2 = iterate_with_slice(os.path.join(DIR, 'goodreads_interactions_fantasy_paranormal.json.gz'), start=10000, end=50000)\n",
    "df_iter_2 = pd.concat(iter_2, ignore_index=True)\n",
    "print(df_iter_2.shape)"
   ]
  },
  {
   "cell_type": "code",
   "execution_count": null,
   "metadata": {},
   "outputs": [],
   "source": [
    "iter_3 = iterate_with_slice(os.path.join(DIR, 'goodreads_interactions_fantasy_paranormal.json.gz'), start=50000, end=100000)\n",
    "df_iter_3 = pd.concat(iter_3, ignore_index=True)\n",
    "print(df_iter_3.shape)"
   ]
  },
  {
   "cell_type": "code",
   "execution_count": null,
   "metadata": {},
   "outputs": [],
   "source": [
    "iter_4 = iterate_with_slice(os.path.join(DIR, 'goodreads_interactions_fantasy_paranormal.json.gz'), start=100000, end=500000)\n",
    "df_iter_4 = pd.concat(iter_4, ignore_index=True)\n",
    "print(df_iter_4.shape)"
   ]
  },
  {
   "cell_type": "code",
   "execution_count": null,
   "metadata": {},
   "outputs": [],
   "source": [
    "iter_5 = iterate_with_slice(os.path.join(DIR, 'goodreads_interactions_fantasy_paranormal.json.gz'), start=500000, end=1000000)\n",
    "df_iter_5 = pd.concat(iter_5, ignore_index=True)\n",
    "print(df_iter_5.shape)"
   ]
  },
  {
   "cell_type": "code",
   "execution_count": null,
   "metadata": {},
   "outputs": [],
   "source": [
    "iter_6 = iterate_with_slice(os.path.join(DIR, 'goodreads_interactions_fantasy_paranormal.json.gz'), start=1000000, end=5000000)\n",
    "df_iter_6 = pd.concat(iter_6, ignore_index=True)\n",
    "print(df_iter_6.shape)"
   ]
  },
  {
   "cell_type": "code",
   "execution_count": null,
   "metadata": {
    "scrolled": false
   },
   "outputs": [],
   "source": [
    "iter_7 = iterate_with_slice(os.path.join(DIR, 'goodreads_interactions_fantasy_paranormal.json.gz'), start=5000000, end=20000000)\n",
    "df_iter_7 = pd.concat(iter_7, ignore_index=True)\n",
    "print(df_iter_7.shape)"
   ]
  },
  {
   "cell_type": "code",
   "execution_count": null,
   "metadata": {},
   "outputs": [],
   "source": [
    "iter_8 = iterate_with_slice(os.path.join(DIR, 'goodreads_interactions_fantasy_paranormal.json.gz'), start=20000000, end=40000000)\n",
    "df_iter_8 = pd.concat(iter_8, ignore_index=True)\n",
    "print(df_iter_8.shape)"
   ]
  },
  {
   "cell_type": "code",
   "execution_count": null,
   "metadata": {},
   "outputs": [],
   "source": [
    "iter_9 = iterate_with_slice(os.path.join(DIR, 'goodreads_interactions_fantasy_paranormal.json.gz'), start=40000000, end=55397551)\n",
    "df_iter_9 = pd.concat(iter_9, ignore_index=True)\n",
    "print(df_iter_9.shape)\n"
   ]
  },
  {
   "cell_type": "markdown",
   "metadata": {},
   "source": [
    "## Install relevant modules"
   ]
  },
  {
   "cell_type": "code",
   "execution_count": 17,
   "metadata": {},
   "outputs": [
    {
     "data": {
      "text/plain": [
       "'2.0.0'"
      ]
     },
     "execution_count": 17,
     "metadata": {},
     "output_type": "execute_result"
    }
   ],
   "source": [
    "!pip install tensorflow\n",
    "!pip install keras\n",
    "import tensorflow as tf\n",
    "tf.__version__"
   ]
  },
  {
   "cell_type": "code",
   "execution_count": 59,
   "metadata": {},
   "outputs": [
    {
     "name": "stdout",
     "output_type": "stream",
     "text": [
      "(2151774, 4)\n",
      "214213\n",
      "144899\n",
      "   user_id  book_id  rating\n",
      "1   113959     3173       5\n",
      "3    97831    99512       2\n",
      "4    97831   139736       3\n",
      "5    97831   128024       4\n",
      "6    97831   119470       4\n",
      "    user_id  book_id  rating\n",
      "0    113959    99437       3\n",
      "2    113959   132565       5\n",
      "26     1591   108828       5\n",
      "30    63155   116539       4\n",
      "42   147009    40803       5\n"
     ]
    }
   ],
   "source": [
    "# With various dataframes initialized, compose a list from Python's locals() to concatenate into a combined dataset\n",
    "dataset_list = []\n",
    "dataset_list.extend(value for name, value in locals().items() if name.startswith('df_iter_'))\n",
    "combined_dataset = pd.concat(dataset_list, ignore_index=True)\n",
    "print(combined_dataset.shape)\n",
    "\n",
    "# Convert user_id strings to integer mappings for embedding representations\n",
    "user_id_cat = combined_dataset.user_id.astype('category').cat\n",
    "codes_user_id = user_id_cat.codes\n",
    "cats_user_id = user_id_cat.categories\n",
    "\n",
    "# Convert book_id strings to integer mappings for embedding representations\n",
    "book_id_cat = combined_dataset.book_id.astype('category').cat\n",
    "codes_book_id = book_id_cat.codes\n",
    "cats_book_id = book_id_cat.categories\n",
    "\n",
    "# Full Dataset now contains the user_id and book_id fields in integer form making embeddings easier to learn patterns \n",
    "full_dataset = pd.DataFrame(columns=['user_id', 'book_id', 'rating', 'date_updated'])\n",
    "full_dataset['user_id'] = codes_user_id.values\n",
    "full_dataset['book_id'] = codes_book_id.values\n",
    "full_dataset['rating'] = combined_dataset.rating\n",
    "full_dataset['date_updated'] = combined_dataset.date_updated\n",
    "\n",
    "n_users_total = len(full_dataset.user_id.unique())\n",
    "print(n_users_total)\n",
    "\n",
    "n_books_total = len(full_dataset.book_id.unique())\n",
    "print(n_books_total)\n",
    "\n",
    "# Training dataset comprises data from 11 months of 2016.\n",
    "# Timestamp column can be dropped after apportioning the dataset.\n",
    "train_dataset = full_dataset[~full_dataset['date_updated'].str.contains(\"Dec\", regex=False)]\n",
    "train_dataset = train_dataset.drop('date_updated', 1)\n",
    "print(train_dataset.head())\n",
    "\n",
    "# Test dataset comprises data from December of 2016.\n",
    "# Timestamp column can be dropped after apportioning the dataset.\n",
    "test_dataset = full_dataset[full_dataset['date_updated'].str.contains(\"Dec\", regex=False)]\n",
    "test_dataset = test_dataset.drop('date_updated', 1)\n",
    "print(test_dataset.head())"
   ]
  },
  {
   "cell_type": "code",
   "execution_count": 61,
   "metadata": {
    "scrolled": true
   },
   "outputs": [],
   "source": [
    "# Split the transformed dataset into train-validation splits with ratio 80:20 \n",
    "from sklearn.model_selection import train_test_split\n",
    "\n",
    "%matplotlib inline\n",
    "new_train, new_validation = train_test_split(train_dataset, test_size=0.2, random_state=42)"
   ]
  },
  {
   "cell_type": "markdown",
   "metadata": {},
   "source": [
    "# Creating Neural Network Model\n",
    "\n",
    "Neural Network approach with embedding and Fully-Connected layers for user-book pattern recommendation system."
   ]
  },
  {
   "cell_type": "code",
   "execution_count": 62,
   "metadata": {},
   "outputs": [],
   "source": [
    "from keras.layers import Input, Embedding, Flatten, Dot, Concatenate, Dense\n",
    "from keras.models import Model\n",
    "\n",
    "n_latent_factors_book = 5\n",
    "n_latent_factors_user = 5\n",
    "\n",
    "# Create book embedding vector\n",
    "book_input = Input(shape=[1], name=\"Book-Input\")\n",
    "book_embedding = Embedding(n_books_total + 1, n_latent_factors_book, name=\"Book-Embedding\")(book_input)\n",
    "book_vec = Flatten(name=\"Flatten-Books\")(book_embedding)\n",
    "\n",
    "# Create user embedding vector\n",
    "user_input = Input(shape=[1], name=\"User-Input\")\n",
    "user_embedding = Embedding(n_users_total + 1, n_latent_factors_user, name=\"User-Embedding\")(user_input)\n",
    "user_vec = Flatten(name=\"Flatten-Users\")(user_embedding)\n",
    "\n",
    "# Concatenate features\n",
    "conc = Concatenate()([book_vec, user_vec])\n",
    "\n",
    "# Add Fully-Connected layers\n",
    "fc1 = Dense(128, activation='relu')(conc)\n",
    "fc2 = Dense(32, activation='relu')(fc1)\n",
    "out = Dense(1)(fc2)\n",
    "\n",
    "# For a simple matrix factorization/embedding design, one could perform dot product of the input features.\n",
    "# The accuracies weren't high enough, hence decided to go with a NN model\n",
    "# prod = Dot(name=\"Dot-Product\", axes=1)([book_vec, user_vec])\n",
    "# model = Model([user_input, book_input], prod)\n",
    "# model.compile('adam', 'mean_squared_error')\n",
    "\n",
    "# Create a more complex NN model\n",
    "model2 = Model([user_input, book_input], out)\n",
    "model2.compile(optimizer='adam', loss='mse', metrics=['mean_squared_error'])"
   ]
  },
  {
   "cell_type": "code",
   "execution_count": 63,
   "metadata": {
    "scrolled": false
   },
   "outputs": [
    {
     "name": "stderr",
     "output_type": "stream",
     "text": [
      "C:\\ProgramData\\Anaconda3\\lib\\site-packages\\tensorflow_core\\python\\framework\\indexed_slices.py:424: UserWarning: Converting sparse IndexedSlices to a dense Tensor of unknown shape. This may consume a large amount of memory.\n",
      "  \"Converting sparse IndexedSlices to a dense Tensor of unknown shape. \"\n"
     ]
    },
    {
     "name": "stdout",
     "output_type": "stream",
     "text": [
      "Epoch 1/5\n",
      "1564773/1564773 [==============================] - 1712s 1ms/step - loss: 0.7158 - mean_squared_error: 0.7158\n",
      "Epoch 2/5\n",
      "1564773/1564773 [==============================] - 1743s 1ms/step - loss: 0.5944 - mean_squared_error: 0.5944\n",
      "Epoch 3/5\n",
      "1564773/1564773 [==============================] - 1328s 849us/step - loss: 0.5533 - mean_squared_error: 0.5533\n",
      "Epoch 4/5\n",
      "1564773/1564773 [==============================] - 1401s 896us/step - loss: 0.5196 - mean_squared_error: 0.5196\n",
      "Epoch 5/5\n",
      "1564773/1564773 [==============================] - 1769s 1ms/step - loss: 0.4897 - mean_squared_error: 0.4897\n"
     ]
    },
    {
     "data": {
      "image/png": "[encoded data removed]",
      "text/plain": [
       "<Figure size 432x288 with 1 Axes>"
      ]
     },
     "metadata": {
      "needs_background": "light"
     },
     "output_type": "display_data"
    }
   ],
   "source": [
    "# Train the Model with training data\n",
    "from keras.models import load_model\n",
    "\n",
    "if os.path.exists('nn_model.h5'):\n",
    "    model2 = load_model('nn_model.h5')\n",
    "else:\n",
    "    history = model2.fit([new_train.user_id, new_train.book_id], new_train.rating, epochs=5, verbose=1)\n",
    "    model2.save('nn_model.h5')\n",
    "    plt.plot(history.history['loss'])\n",
    "    plt.plot(history.history['mean_squared_error'])\n",
    "    plt.xlabel(\"Epochs\")\n",
    "    plt.ylabel(\"Training Error\")"
   ]
  },
  {
   "cell_type": "markdown",
   "metadata": {},
   "source": [
    "## Evaluation of Neural Network with Validation set\n",
    "\n",
    "With the MSE training error above falling less than 0.5, we could check our validation set as we're concerned with a boolean( positive/negative) approach towards recommending a book (rating>=4 for positive recommendation). "
   ]
  },
  {
   "cell_type": "code",
   "execution_count": 64,
   "metadata": {
    "scrolled": true
   },
   "outputs": [
    {
     "name": "stdout",
     "output_type": "stream",
     "text": [
      "391194/391194 [==============================] - 13s 34us/step\n"
     ]
    },
    {
     "data": {
      "text/plain": [
       "[0.6521938849860804, 0.6521934866905212]"
      ]
     },
     "execution_count": 64,
     "metadata": {},
     "output_type": "execute_result"
    }
   ],
   "source": [
    "# Evaluate the Model on the Validation Set\n",
    "model2.evaluate([new_validation.user_id, new_validation.book_id], new_validation.rating)"
   ]
  },
  {
   "cell_type": "code",
   "execution_count": 72,
   "metadata": {},
   "outputs": [
    {
     "name": "stdout",
     "output_type": "stream",
     "text": [
      "['loss', 'mean_squared_error']\n"
     ]
    }
   ],
   "source": [
    "print(model2.metrics_names)"
   ]
  },
  {
   "cell_type": "markdown",
   "metadata": {},
   "source": [
    "We note that the Loss and MSE on the validation set is ~0.65 on the rating. This gives room for tweaking our network to reduce the errors. Possible approaches are \n",
    "* More epochs.\n",
    "* More hidden layers.\n",
    "\n",
    "For now, we continue to evaluate our test set since we're concerned with binary recommendations (positive or negative) past a certain threshold (rating >=4). With absolute rating predictions, we'd want to drive this down further for sure."
   ]
  },
  {
   "cell_type": "code",
   "execution_count": 65,
   "metadata": {
    "scrolled": true
   },
   "outputs": [
    {
     "name": "stdout",
     "output_type": "stream",
     "text": [
      "[4.7330337] 5\n",
      "[3.419229] 4\n",
      "[3.9431734] 3\n",
      "[3.9313426] 4\n",
      "[4.8205347] 3\n",
      "[3.8971963] 5\n",
      "[4.5720267] 4\n",
      "[4.5786037] 5\n",
      "[4.0088034] 4\n",
      "[4.54173] 5\n"
     ]
    },
    {
     "data": {
      "text/plain": [
       "[None, None, None, None, None, None, None, None, None, None]"
      ]
     },
     "execution_count": 65,
     "metadata": {},
     "output_type": "execute_result"
    }
   ],
   "source": [
    "# Predictions on the apportioned validation set.\n",
    "predictions2 = model2.predict([new_validation.user_id.head(10), new_validation.book_id.head(10)])\n",
    "[print(predictions2[i], new_validation.rating.iloc[i]) for i in range(0,10)]"
   ]
  },
  {
   "cell_type": "markdown",
   "metadata": {},
   "source": [
    "## Prediction on Test Dataset\n",
    "### Predictions on the test set from December 2016\n",
    "Illustrated with outputs in code cells below for a sample on first 10 items.\n",
    "Please change this to any value desired feasible for inspection.\n",
    "\n",
    "### Model output predictions and recommendations\n",
    "```y_hat``` contains the rating predictions rounded up.\n",
    "\n",
    "```y_hat_boolean``` contains the positive(1)/negative(0) recommendation for test (user_id, book_id) as per problem statement"
   ]
  },
  {
   "cell_type": "code",
   "execution_count": 71,
   "metadata": {
    "scrolled": true
   },
   "outputs": [
    {
     "name": "stdout",
     "output_type": "stream",
     "text": [
      "[4.4408674] 3\n",
      "[4.6056805] 5\n",
      "[4.4163465] 5\n",
      "[4.1427145] 4\n",
      "[4.016427] 5\n",
      "[3.9570866] 5\n",
      "[3.9810514] 4\n",
      "[3.9399958] 4\n",
      "[4.5146976] 5\n",
      "[4.286291] 5\n",
      "[4.] 3\n",
      "[5.] 5\n",
      "[4.] 5\n",
      "[4.] 4\n",
      "[4.] 5\n",
      "[4.] 5\n",
      "[4.] 4\n",
      "[4.] 4\n",
      "[5.] 5\n",
      "[4.] 5\n",
      "[[1]\n",
      " [1]\n",
      " [1]\n",
      " [1]\n",
      " [1]\n",
      " [1]\n",
      " [1]\n",
      " [1]\n",
      " [1]\n",
      " [1]]\n"
     ]
    }
   ],
   "source": [
    "predictions3 = model2.predict([test_dataset.user_id.head(10), test_dataset.book_id.head(10)])\n",
    "[print(predictions3[i], test_dataset.rating.iloc[i]) for i in range(0,10)]\n",
    "\n",
    "# Rounding up predictions\n",
    "y_hat = np.round(predictions3, 0)\n",
    "[print(y_hat[i], test_dataset.rating.iloc[i]) for i in range(0,10)]\n",
    "\n",
    "# Boolean predictions to indicate positive(1) or negative(0) reviews based on thresholding at rating 4.\n",
    "y_hat_boolean = np.where(y_hat >= 4, 1, 0)\n",
    "print(y_hat_boolean)"
   ]
  }
 ],
 "metadata": {
  "kernelspec": {
   "display_name": "Python 3",
   "language": "python",
   "name": "python3"
  },
  "language_info": {
   "codemirror_mode": {
    "name": "ipython",
    "version": 3
   },
   "file_extension": ".py",
   "mimetype": "text/x-python",
   "name": "python",
   "nbconvert_exporter": "python",
   "pygments_lexer": "ipython3",
   "version": "3.7.4"
  }
 },
 "nbformat": 4,
 "nbformat_minor": 2
}
